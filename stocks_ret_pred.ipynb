{
 "cells": [
  {
   "cell_type": "code",
   "execution_count": 1,
   "metadata": {},
   "outputs": [
    {
     "name": "stderr",
     "output_type": "stream",
     "text": [
      "/Users/yang/miniconda2/envs/py35/lib/python3.5/importlib/_bootstrap.py:222: RuntimeWarning: compiletime version 3.6 of module 'tensorflow.python.framework.fast_tensor_util' does not match runtime version 3.5\n",
      "  return f(*args, **kwds)\n"
     ]
    }
   ],
   "source": [
    "import matplotlib.pyplot as plt\n",
    "%matplotlib inline\n",
    "\n",
    "import tensorflow as tf\n",
    "import pandas as pd\n",
    "import numpy as np\n",
    "\n",
    "import os\n",
    "from tensorflow.python.layers import core as core_layers\n",
    "\n",
    "from mpl_toolkits.mplot3d import Axes3D\n",
    "\n",
    "def reset_graph(seed=42):\n",
    "    # to make results reproducible across runs\n",
    "    tf.reset_default_graph()\n",
    "    tf.set_random_seed(seed)\n",
    "    np.random.seed(seed)"
   ]
  },
  {
   "cell_type": "markdown",
   "metadata": {},
   "source": [
    "# Import and Clean Data"
   ]
  },
  {
   "cell_type": "markdown",
   "metadata": {},
   "source": [
    "### Variables in the dataset\n",
    "ATQ - Total Assets\n",
    "<br>\n",
    "COGSQ - Cost of Goods Sold\n",
    "<br>\n",
    "CSHOQ - Common Shares Outstanding\n",
    "<br>\n",
    "EPSPIQ - Earnings Per Share Including Extraordinary Items\n",
    "<br>\n",
    "LTQ - Total Liabilities\n",
    "<br>\n",
    "OIADPQ - Operating Income After Depreciation\n",
    "<br>\n",
    "SALEQ - Total Revenue\n",
    "<br>\n",
    "XOPRQ - Operating Expense\n",
    "<br>\n",
    "IBY - Income Before Extraordinary Items\n",
    "<br>\n",
    "NIY - Net Income\n",
    "<br>\n",
    "PRCCQ - Price (Quarter)"
   ]
  },
  {
   "cell_type": "markdown",
   "metadata": {},
   "source": [
    "## Check for valid inputs\n",
    "### Set year 2017 return for validation, trim stock outliers"
   ]
  },
  {
   "cell_type": "code",
   "execution_count": 2,
   "metadata": {},
   "outputs": [],
   "source": [
    "df = pd.read_csv('ret_data.csv')"
   ]
  },
  {
   "cell_type": "code",
   "execution_count": 3,
   "metadata": {},
   "outputs": [
    {
     "name": "stdout",
     "output_type": "stream",
     "text": [
      "Stocks with valid return in 2017: 1678\n"
     ]
    }
   ],
   "source": [
    "# use year 2017 data for prediction and testing\n",
    "df['Year'] = df.Date.apply(str)\n",
    "df.Year = df.Year.str[:4].astype(int)\n",
    "df2017 = df[df.Year == 2017]\n",
    "ticlist = df2017.groupby(['tic']).size()>3\n",
    "ticlist = ticlist[ticlist]\n",
    "tics = ticlist.index.tolist()\n",
    "\n",
    "# trim outliers\n",
    "outliers = ['GNBT', 'LNGG', 'CSBR', 'ORGS', 'IPCI', 'CDK', 'CJ', 'SRBCF', 'LTXFF', 'IRWD', 'NRT','COOL',\n",
    "           'HRB','MMTIF','QURE','BA','ABMT','CTUMF','ARCH','ASPU','CODA','SVU','MET','ITUS','GRVY',\n",
    "           'MMEX','PNCKF','ADRGF','FTR','WLL','CIIT','FVGCF','ETAH','DNKN','W']\n",
    "for outlier in outliers:\n",
    "    tics.remove(outlier)\n",
    "print('Stocks with valid return in 2017: %d' %len(tics))"
   ]
  },
  {
   "cell_type": "code",
   "execution_count": 4,
   "metadata": {},
   "outputs": [],
   "source": [
    "# split data before 2017 or after 2017\n",
    "df = df[df.Year <= 2017]\n",
    "d_17 = df[df.Year >= 2017]\n",
    "d_17 =  d_17[d_17.tic.isin(tics)]\n",
    "df = df[df.tic.isin(tics)]\n",
    "df = df[~df.index.isin(d_17.index)]"
   ]
  },
  {
   "cell_type": "markdown",
   "metadata": {},
   "source": [
    "### Trim outliers in predictors "
   ]
  },
  {
   "cell_type": "code",
   "execution_count": 5,
   "metadata": {},
   "outputs": [
    {
     "name": "stdout",
     "output_type": "stream",
     "text": [
      "R_Q1 -0.20000000000000007 0.24372511008578807\n",
      "R_Q2 -0.1395594883736036 0.18765854618943667\n",
      "R_Q3 -0.11264131227696617 0.15799566601417522\n",
      "R_Q4 -0.09537191788672572 0.13942307692307693\n",
      "ROA -0.01283846103325186 0.08312860177476278\n",
      "dROA -0.05336055353560629 0.03350669487084119\n",
      "ROE -0.032745826568439995 0.1854953157402811\n",
      "dROE -0.12049998895709711 0.07372618003172257\n",
      "ACCRUAL -0.013647838884362013 0.08424832780116309\n",
      "dACCRUAL -0.05449606487550754 0.03395473155108494\n",
      "PB 0.7477018234273439 5.647157549701452\n",
      "Margin -0.0881317627544135 0.12492926153076564\n",
      "Lever 0.21849790705259559 0.9063878743903813\n",
      "dDebt -164.83429999999987 387.7289000000012\n",
      "dIncome -128.388 238.15330000000034\n",
      "Turnover -93.40780000000001 142.26400000000046\n"
     ]
    },
    {
     "data": {
      "text/html": [
       "<div>\n",
       "<style scoped>\n",
       "    .dataframe tbody tr th:only-of-type {\n",
       "        vertical-align: middle;\n",
       "    }\n",
       "\n",
       "    .dataframe tbody tr th {\n",
       "        vertical-align: top;\n",
       "    }\n",
       "\n",
       "    .dataframe thead th {\n",
       "        text-align: right;\n",
       "    }\n",
       "</style>\n",
       "<table border=\"1\" class=\"dataframe\">\n",
       "  <thead>\n",
       "    <tr style=\"text-align: right;\">\n",
       "      <th></th>\n",
       "      <th>R_Q1</th>\n",
       "      <th>R_Q2</th>\n",
       "      <th>R_Q3</th>\n",
       "      <th>R_Q4</th>\n",
       "      <th>ROA</th>\n",
       "      <th>dROA</th>\n",
       "      <th>ROE</th>\n",
       "      <th>dROE</th>\n",
       "      <th>ACCRUAL</th>\n",
       "      <th>dACCRUAL</th>\n",
       "      <th>PB</th>\n",
       "      <th>Margin</th>\n",
       "      <th>Lever</th>\n",
       "      <th>dDebt</th>\n",
       "      <th>dIncome</th>\n",
       "      <th>Turnover</th>\n",
       "    </tr>\n",
       "  </thead>\n",
       "  <tbody>\n",
       "    <tr>\n",
       "      <th>count</th>\n",
       "      <td>12009.000000</td>\n",
       "      <td>12009.000000</td>\n",
       "      <td>12009.000000</td>\n",
       "      <td>12009.000000</td>\n",
       "      <td>12009.000000</td>\n",
       "      <td>12009.000000</td>\n",
       "      <td>12009.000000</td>\n",
       "      <td>12009.000000</td>\n",
       "      <td>12009.000000</td>\n",
       "      <td>12009.000000</td>\n",
       "      <td>12009.000000</td>\n",
       "      <td>12009.000000</td>\n",
       "      <td>12009.000000</td>\n",
       "      <td>12009.000000</td>\n",
       "      <td>12009.000000</td>\n",
       "      <td>12009.000000</td>\n",
       "    </tr>\n",
       "    <tr>\n",
       "      <th>mean</th>\n",
       "      <td>0.017642</td>\n",
       "      <td>0.018265</td>\n",
       "      <td>0.019721</td>\n",
       "      <td>0.019775</td>\n",
       "      <td>0.022133</td>\n",
       "      <td>0.004454</td>\n",
       "      <td>0.056000</td>\n",
       "      <td>0.009485</td>\n",
       "      <td>0.022493</td>\n",
       "      <td>0.004447</td>\n",
       "      <td>1.898573</td>\n",
       "      <td>0.014867</td>\n",
       "      <td>0.610160</td>\n",
       "      <td>29.371392</td>\n",
       "      <td>17.498886</td>\n",
       "      <td>6.909299</td>\n",
       "    </tr>\n",
       "    <tr>\n",
       "      <th>std</th>\n",
       "      <td>0.093580</td>\n",
       "      <td>0.065118</td>\n",
       "      <td>0.053769</td>\n",
       "      <td>0.047937</td>\n",
       "      <td>0.021089</td>\n",
       "      <td>0.014287</td>\n",
       "      <td>0.040474</td>\n",
       "      <td>0.034363</td>\n",
       "      <td>0.021135</td>\n",
       "      <td>0.014496</td>\n",
       "      <td>0.986052</td>\n",
       "      <td>0.043706</td>\n",
       "      <td>0.207907</td>\n",
       "      <td>85.269772</td>\n",
       "      <td>45.961042</td>\n",
       "      <td>30.741066</td>\n",
       "    </tr>\n",
       "    <tr>\n",
       "      <th>min</th>\n",
       "      <td>-0.199878</td>\n",
       "      <td>-0.139456</td>\n",
       "      <td>-0.112590</td>\n",
       "      <td>-0.095285</td>\n",
       "      <td>-0.012731</td>\n",
       "      <td>-0.053232</td>\n",
       "      <td>-0.032543</td>\n",
       "      <td>-0.119784</td>\n",
       "      <td>-0.013349</td>\n",
       "      <td>-0.054447</td>\n",
       "      <td>0.747854</td>\n",
       "      <td>-0.088030</td>\n",
       "      <td>0.218628</td>\n",
       "      <td>-164.770000</td>\n",
       "      <td>-128.116000</td>\n",
       "      <td>-93.393000</td>\n",
       "    </tr>\n",
       "    <tr>\n",
       "      <th>25%</th>\n",
       "      <td>-0.047934</td>\n",
       "      <td>-0.026768</td>\n",
       "      <td>-0.017658</td>\n",
       "      <td>-0.013379</td>\n",
       "      <td>0.005479</td>\n",
       "      <td>0.000964</td>\n",
       "      <td>0.024036</td>\n",
       "      <td>0.003994</td>\n",
       "      <td>0.005642</td>\n",
       "      <td>0.000982</td>\n",
       "      <td>1.166252</td>\n",
       "      <td>-0.015360</td>\n",
       "      <td>0.444727</td>\n",
       "      <td>-10.924000</td>\n",
       "      <td>0.847000</td>\n",
       "      <td>-1.655000</td>\n",
       "    </tr>\n",
       "    <tr>\n",
       "      <th>50%</th>\n",
       "      <td>0.015478</td>\n",
       "      <td>0.016237</td>\n",
       "      <td>0.018095</td>\n",
       "      <td>0.017857</td>\n",
       "      <td>0.014435</td>\n",
       "      <td>0.004143</td>\n",
       "      <td>0.050508</td>\n",
       "      <td>0.018749</td>\n",
       "      <td>0.014970</td>\n",
       "      <td>0.004286</td>\n",
       "      <td>1.592151</td>\n",
       "      <td>0.014659</td>\n",
       "      <td>0.589603</td>\n",
       "      <td>7.133000</td>\n",
       "      <td>7.826000</td>\n",
       "      <td>1.011000</td>\n",
       "    </tr>\n",
       "    <tr>\n",
       "      <th>75%</th>\n",
       "      <td>0.083123</td>\n",
       "      <td>0.061669</td>\n",
       "      <td>0.056356</td>\n",
       "      <td>0.051690</td>\n",
       "      <td>0.035459</td>\n",
       "      <td>0.013240</td>\n",
       "      <td>0.082803</td>\n",
       "      <td>0.029119</td>\n",
       "      <td>0.035972</td>\n",
       "      <td>0.013390</td>\n",
       "      <td>2.362739</td>\n",
       "      <td>0.044773</td>\n",
       "      <td>0.846296</td>\n",
       "      <td>49.022000</td>\n",
       "      <td>28.280000</td>\n",
       "      <td>11.810000</td>\n",
       "    </tr>\n",
       "    <tr>\n",
       "      <th>max</th>\n",
       "      <td>0.243483</td>\n",
       "      <td>0.187614</td>\n",
       "      <td>0.157833</td>\n",
       "      <td>0.139357</td>\n",
       "      <td>0.083121</td>\n",
       "      <td>0.033482</td>\n",
       "      <td>0.185379</td>\n",
       "      <td>0.073708</td>\n",
       "      <td>0.083896</td>\n",
       "      <td>0.033591</td>\n",
       "      <td>5.641741</td>\n",
       "      <td>0.124829</td>\n",
       "      <td>0.906375</td>\n",
       "      <td>386.880000</td>\n",
       "      <td>238.000000</td>\n",
       "      <td>142.082000</td>\n",
       "    </tr>\n",
       "  </tbody>\n",
       "</table>\n",
       "</div>"
      ],
      "text/plain": [
       "               R_Q1          R_Q2          R_Q3          R_Q4           ROA  \\\n",
       "count  12009.000000  12009.000000  12009.000000  12009.000000  12009.000000   \n",
       "mean       0.017642      0.018265      0.019721      0.019775      0.022133   \n",
       "std        0.093580      0.065118      0.053769      0.047937      0.021089   \n",
       "min       -0.199878     -0.139456     -0.112590     -0.095285     -0.012731   \n",
       "25%       -0.047934     -0.026768     -0.017658     -0.013379      0.005479   \n",
       "50%        0.015478      0.016237      0.018095      0.017857      0.014435   \n",
       "75%        0.083123      0.061669      0.056356      0.051690      0.035459   \n",
       "max        0.243483      0.187614      0.157833      0.139357      0.083121   \n",
       "\n",
       "               dROA           ROE          dROE       ACCRUAL      dACCRUAL  \\\n",
       "count  12009.000000  12009.000000  12009.000000  12009.000000  12009.000000   \n",
       "mean       0.004454      0.056000      0.009485      0.022493      0.004447   \n",
       "std        0.014287      0.040474      0.034363      0.021135      0.014496   \n",
       "min       -0.053232     -0.032543     -0.119784     -0.013349     -0.054447   \n",
       "25%        0.000964      0.024036      0.003994      0.005642      0.000982   \n",
       "50%        0.004143      0.050508      0.018749      0.014970      0.004286   \n",
       "75%        0.013240      0.082803      0.029119      0.035972      0.013390   \n",
       "max        0.033482      0.185379      0.073708      0.083896      0.033591   \n",
       "\n",
       "                 PB        Margin         Lever         dDebt       dIncome  \\\n",
       "count  12009.000000  12009.000000  12009.000000  12009.000000  12009.000000   \n",
       "mean       1.898573      0.014867      0.610160     29.371392     17.498886   \n",
       "std        0.986052      0.043706      0.207907     85.269772     45.961042   \n",
       "min        0.747854     -0.088030      0.218628   -164.770000   -128.116000   \n",
       "25%        1.166252     -0.015360      0.444727    -10.924000      0.847000   \n",
       "50%        1.592151      0.014659      0.589603      7.133000      7.826000   \n",
       "75%        2.362739      0.044773      0.846296     49.022000     28.280000   \n",
       "max        5.641741      0.124829      0.906375    386.880000    238.000000   \n",
       "\n",
       "           Turnover  \n",
       "count  12009.000000  \n",
       "mean       6.909299  \n",
       "std       30.741066  \n",
       "min      -93.393000  \n",
       "25%       -1.655000  \n",
       "50%        1.011000  \n",
       "75%       11.810000  \n",
       "max      142.082000  "
      ]
     },
     "execution_count": 5,
     "metadata": {},
     "output_type": "execute_result"
    }
   ],
   "source": [
    "low_cut = 10  # in percents\n",
    "high_cut = 90\n",
    "\n",
    "predictors = ['R_Q1','R_Q2','R_Q3','R_Q4','ROA','dROA','ROE','dROE','ACCRUAL','dACCRUAL','PB','Margin','Lever','dDebt','dIncome','Turnover']\n",
    "\n",
    "for col in predictors:\n",
    "    low_percentile = np.percentile(df[col], low_cut)\n",
    "    high_percentile = np.percentile(df[col], high_cut)\n",
    "    print(col,low_percentile, high_percentile)\n",
    "    idx_low_val = np.logical_not(df[col] > low_percentile)\n",
    "    idx_high_val = np.logical_not(df[col] < high_percentile)\n",
    "    df.loc[idx_low_val, col] = np.nan\n",
    "    df.loc[idx_high_val, col] = np.nan\n",
    "df = df.dropna()\n",
    "df[predictors].describe()"
   ]
  },
  {
   "cell_type": "code",
   "execution_count": 6,
   "metadata": {},
   "outputs": [
    {
     "name": "stdout",
     "output_type": "stream",
     "text": [
      "0\n"
     ]
    }
   ],
   "source": [
    "print(np.sum(df.F_ret.isnull()))"
   ]
  },
  {
   "cell_type": "code",
   "execution_count": 7,
   "metadata": {},
   "outputs": [
    {
     "name": "stdout",
     "output_type": "stream",
     "text": [
      "[20. 45. 25. 15. 10. 40. 60. 55. 30. 35. 50.]\n"
     ]
    }
   ],
   "source": [
    "print(df.Sector.unique())"
   ]
  },
  {
   "cell_type": "markdown",
   "metadata": {},
   "source": [
    "### Check the statistics of stocks from different sectors"
   ]
  },
  {
   "cell_type": "code",
   "execution_count": 8,
   "metadata": {},
   "outputs": [],
   "source": [
    "# make a dictionary and inverse dictionary for industry sectors\n",
    "sectors = dict(zip(df[\"Sector\"].unique(), range(0, len(df[\"Sector\"].unique()))))"
   ]
  },
  {
   "cell_type": "markdown",
   "metadata": {},
   "source": [
    "### Define the train and test datasets"
   ]
  },
  {
   "cell_type": "code",
   "execution_count": 9,
   "metadata": {},
   "outputs": [
    {
     "name": "stdout",
     "output_type": "stream",
     "text": [
      "(9356, 16) (9356,) (9356,) (3002, 16) (3002,) (3002,)\n"
     ]
    }
   ],
   "source": [
    "# one-fourth of the data with be used for a test set\n",
    "test_size = len(df) // 4\n",
    "tic_last_set = d_17\n",
    "\n",
    "# all outputs (predict the next-quarter return)\n",
    "\n",
    "Y = df.F_ret.values\n",
    "Y_tic_last_set = tic_last_set.F_ret.values\n",
    "\n",
    "X_raw = df[predictors].values\n",
    "X_tic_last_set_raw = tic_last_set[predictors].values\n",
    "\n",
    "# standardize inputs\n",
    "X = (X_raw - np.mean(X_raw, axis=0, keepdims=True)) / (0.00000001 + np.std(X_raw, axis=0, keepdims=True))\n",
    "X_tic_last_set = (X_tic_last_set_raw - np.mean(X_raw, axis=0)) / (0.00000001 + np.std(X_raw, axis=0))\n",
    "\n",
    "# sector values\n",
    "X_sector = df.Sector.values\n",
    "X_tic_last_set_sector = tic_last_set.Sector.values\n",
    "\n",
    "# randomly select a set of rows that will be used for a test\n",
    "test_ids = np.random.randint(low=0, high=Y.shape[0], size=test_size)\n",
    "\n",
    "# construct indices for the train set by excluding indices for the test set\n",
    "train_ids =  np.arange(0, Y.shape[0])\n",
    "train_ids = train_ids[np.logical_not(np.in1d(train_ids, test_ids))]\n",
    "\n",
    "# make input datasets \n",
    "X_train = X[train_ids, :]\n",
    "X_train_sectors = X_sector[train_ids] # for categorical sector values\n",
    "Y_train = Y[train_ids]\n",
    "\n",
    "# test datasets\n",
    "X_test  = X[test_ids, :]\n",
    "X_test_sectors = X_sector[test_ids]\n",
    "Y_test  = Y[test_ids]\n",
    "\n",
    "print (X_train.shape, X_train_sectors.shape, Y_train.shape, X_test.shape, X_test_sectors.shape, Y_test.shape)"
   ]
  },
  {
   "cell_type": "code",
   "execution_count": 10,
   "metadata": {},
   "outputs": [
    {
     "data": {
      "text/plain": [
       "(16,)"
      ]
     },
     "execution_count": 10,
     "metadata": {},
     "output_type": "execute_result"
    }
   ],
   "source": [
    "np.mean(X_raw, axis=0).shape"
   ]
  },
  {
   "cell_type": "markdown",
   "metadata": {},
   "source": [
    "# Learning with ANN\n",
    "## A Class for Neural Network"
   ]
  },
  {
   "cell_type": "code",
   "execution_count": 11,
   "metadata": {},
   "outputs": [],
   "source": [
    "class Model:\n",
    "    def __init__(self, n_input, n_output, hidden_layer_shapes=[32], \n",
    "                 activation=tf.nn.relu, optimizer = tf.train.GradientDescentOptimizer,\n",
    "                num_sectors=len(sectors)):\n",
    "        \n",
    "        self.x = tf.placeholder(tf.float32, shape=(None, n_input), name=\"X\")\n",
    "        self.x_sectors = tf.placeholder(tf.int32, shape=(None), name=\"X_sectors\")\n",
    "        self.y = tf.placeholder(tf.float32, shape=(None, n_output), name=\"y\")\n",
    "        \n",
    "        self.learning_rate = tf.placeholder(tf.float32, name=\"learning_rate\")\n",
    "        \n",
    "        # dropout specification\n",
    "        self.keep_prob = tf.placeholder(tf.float32, name=\"keep_prob\")\n",
    "        \n",
    "        # use a one-hot representation for sector ID values\n",
    "        x_sectors_one_hot = tf.one_hot(self.x_sectors, num_sectors)\n",
    "        \n",
    "        # include the output layer in the list of layers\n",
    "        hidden_layer_shapes_full = hidden_layer_shapes + [n_output]\n",
    "        \n",
    "        # add \"one-hot\" boolean sector variables to the data\n",
    "        previous_layer_output = tf.concat([self.x, x_sectors_one_hot], axis=-1)\n",
    "        \n",
    "        previous_layer_size = n_input + num_sectors\n",
    "        \n",
    "        # define all layers\n",
    "        for i in range(0, len(hidden_layer_shapes_full)):\n",
    "            if i < (len(hidden_layer_shapes_full) - 1):\n",
    "                # inner (hidden) layer\n",
    "                hidden_layer = tf.layers.Dense(hidden_layer_shapes_full[i], activation=activation)   \n",
    "            else:\n",
    "                # output layer\n",
    "                hidden_layer = tf.layers.Dense(hidden_layer_shapes_full[i])\n",
    "                \n",
    "            hidden_layer.build([None, previous_layer_size])\n",
    "            \n",
    "            # output of a hidden layer is an iput to the next layer\n",
    "            previous_layer_output = hidden_layer(previous_layer_output)\n",
    "            \n",
    "            # apply a dropout to hidden layers\n",
    "            if i < (len(hidden_layer_shapes_full) - 1):\n",
    "                previous_layer_output = tf.nn.dropout(previous_layer_output, keep_prob=self.keep_prob)   \n",
    "            \n",
    "            # also redefine the size of the previous layer as the size of the current layer \n",
    "            previous_layer_size = hidden_layer_shapes_full[i]\n",
    "        \n",
    "        # define other ops\n",
    "        self.loss = tf.reduce_mean(tf.square(previous_layer_output - self.y))\n",
    "        self.train_op = (optimizer(self.learning_rate).minimize(self.loss), self.loss)\n",
    "        self.output = previous_layer_output"
   ]
  },
  {
   "cell_type": "markdown",
   "metadata": {},
   "source": [
    "## Create a Neural Network model"
   ]
  },
  {
   "cell_type": "code",
   "execution_count": 12,
   "metadata": {},
   "outputs": [
    {
     "data": {
      "image/png": "[encoded data removed]",
      "text/plain": [
       "<Figure size 432x288 with 1 Axes>"
      ]
     },
     "metadata": {},
     "output_type": "display_data"
    }
   ],
   "source": [
    "model = Model(n_input=X.shape[1], n_output=1, hidden_layer_shapes=[60])\n",
    "\n",
    "batch_size = 256\n",
    "learning_rate = 0.01\n",
    "n_iters = 50000\n",
    "keep_prob = 0.6 # 1 - dropout rate\n",
    "\n",
    "history = []\n",
    "load_model_from_disk = False\n",
    "\n",
    "with tf.Session() as sess:\n",
    "    sess.run(tf.global_variables_initializer())\n",
    "    saver = tf.train.Saver()\n",
    "    if load_model_from_disk:\n",
    "        try:\n",
    "            saver.restore(sess, './feed_fwd_nn_eps.ckpt')\n",
    "            print (\"model loaded\")\n",
    "        except:\n",
    "            print (\"model not loaded\")\n",
    "        \n",
    "    losses = []\n",
    "    for i in range(0, n_iters):\n",
    "        batch_ids = np.random.randint(low=0, high=Y_train.shape[0], size=batch_size).tolist()\n",
    "        batch_x = X_train[batch_ids, :]\n",
    "        batch_x_sectors = X_train_sectors[batch_ids]\n",
    "        \n",
    "        batch_y = Y_train[batch_ids]\n",
    "        _, loss = sess.run(model.train_op, feed_dict={\n",
    "            model.x: batch_x,\n",
    "            model.x_sectors: batch_x_sectors,\n",
    "            model.y: np.expand_dims(batch_y, -1),\n",
    "            model.learning_rate: learning_rate,\n",
    "            model.keep_prob: keep_prob\n",
    "        })\n",
    "        losses.append(loss)\n",
    "        if len(losses) % 100 == 0:\n",
    "            test_loss = sess.run(model.loss, feed_dict={\n",
    "                model.x: X_test,\n",
    "                model.x_sectors: X_test_sectors,\n",
    "                model.y: np.expand_dims(Y_test, -1),\n",
    "                model.keep_prob: 1.0\n",
    "            })\n",
    "            train_loss = sess.run(model.loss, feed_dict={\n",
    "                model.x: X_train,\n",
    "                model.x_sectors: X_train_sectors,\n",
    "                model.y: np.expand_dims(Y_train, -1),\n",
    "                model.keep_prob: 1.0\n",
    "            })\n",
    "            \n",
    "            history.append([np.mean(losses), train_loss, test_loss])\n",
    "            losses = []    \n",
    "\n",
    "reset_graph(seed=42)\n",
    "plt.figure()\n",
    "history = np.array(history)\n",
    "a, = plt.plot(history[2:,0], c=\"#0000FF\", label=\"training error\", linewidth=2.0)\n",
    "#b, = plt.plot(history[2:,1], c=\"#000000\", label=\"in sample error (no dropout)\", linewidth=1.0)\n",
    "c, = plt.plot(history[2:,2], c=\"#ff0000\", label=\"out of sample error\", linewidth=2.0)\n",
    "plt.legend(handles=[a,c])\n",
    "plt.xlabel(\"iteration\")\n",
    "plt.ylabel(\"MSE\")\n",
    "#plt.savefig('training.eps', format='eps', dpi=1000)"
   ]
  },
  {
   "cell_type": "code",
   "execution_count": 13,
   "metadata": {},
   "outputs": [
    {
     "name": "stdout",
     "output_type": "stream",
     "text": [
      "0.00030819175\n"
     ]
    }
   ],
   "source": [
    "print(history[-1,2])"
   ]
  },
  {
   "cell_type": "markdown",
   "metadata": {},
   "source": [
    "### Validation of the model"
   ]
  },
  {
   "cell_type": "code",
   "execution_count": 14,
   "metadata": {},
   "outputs": [],
   "source": [
    "# choose the number of hidden layers with minimum mse\n",
    "def opt_layer(layers):\n",
    "    batch_size = 256\n",
    "    learning_rate = 0.01\n",
    "    n_iters = 50000\n",
    "    keep_prob = 0.6 # 1 - dropout rate\n",
    "    min_loss = 99999999\n",
    "    good_l = []\n",
    "    for l in layers:    \n",
    "        reset_graph()\n",
    "        model = Model(n_input=X.shape[1], n_output=1, hidden_layer_shapes=l)\n",
    "        history = []\n",
    "        saver = tf.train.Saver()\n",
    "        with tf.Session() as sess:\n",
    "            sess.run(tf.global_variables_initializer())\n",
    "            for i in range(0, n_iters):\n",
    "                batch_ids = np.random.randint(low=0, high=Y_train.shape[0], size=batch_size).tolist()\n",
    "                batch_x = X_train[batch_ids, :]\n",
    "                batch_x_sectors = X_train_sectors[batch_ids]\n",
    "\n",
    "                batch_y = Y_train[batch_ids]\n",
    "                _, loss = sess.run(model.train_op, feed_dict={\n",
    "                    model.x: batch_x,\n",
    "                    model.x_sectors: batch_x_sectors,\n",
    "                    model.y: np.expand_dims(batch_y, -1),\n",
    "                    model.learning_rate: learning_rate,\n",
    "                    model.keep_prob: keep_prob\n",
    "                })\n",
    "                if len(losses) % 100 == 0:\n",
    "                    test_loss = sess.run(model.loss, feed_dict={\n",
    "                        model.x: X_test,\n",
    "                        model.x_sectors: X_test_sectors,\n",
    "                        model.y: np.expand_dims(Y_test, -1),\n",
    "                        model.keep_prob: 1.0\n",
    "                    })\n",
    "                    history.append(test_loss)\n",
    "            if history[-1]<min_loss:\n",
    "                min_loss = history[-1]\n",
    "                good_l = l\n",
    "        print('hidden layer = '+' '.join(str(e)+' ' for e in l)+', error = %.5f' % (history[-1]))\n",
    "    return(good_l)"
   ]
  },
  {
   "cell_type": "markdown",
   "metadata": {},
   "source": [
    "### Choose a proper hidden layer number"
   ]
  },
  {
   "cell_type": "code",
   "execution_count": 15,
   "metadata": {},
   "outputs": [
    {
     "name": "stdout",
     "output_type": "stream",
     "text": [
      "hidden layer = 30 , error = 0.00051\n",
      "hidden layer = 90 , error = 0.00018\n",
      "hidden layer = 150 , error = 0.00012\n"
     ]
    }
   ],
   "source": [
    "# one hidden layer\n",
    "L1 = opt_layer([[30],[90],[150]])"
   ]
  },
  {
   "cell_type": "code",
   "execution_count": 17,
   "metadata": {},
   "outputs": [
    {
     "name": "stdout",
     "output_type": "stream",
     "text": [
      "hidden layer = 10  10 , error = 0.00302\n",
      "hidden layer = 40  20 , error = 0.00214\n",
      "hidden layer = 80  40 , error = 0.00094\n",
      "hidden layer = 160  40 , error = 0.00070\n"
     ]
    }
   ],
   "source": [
    "# two hidden layers\n",
    "L2 = opt_layer([[10,10], [40,20], [80,40],[160, 40]])"
   ]
  },
  {
   "cell_type": "code",
   "execution_count": 18,
   "metadata": {},
   "outputs": [
    {
     "name": "stdout",
     "output_type": "stream",
     "text": [
      "hidden layer = 20  10  10 , error = 0.00702\n",
      "hidden layer = 40  20  20 , error = 0.00438\n",
      "hidden layer = 80  60  40 , error = 0.00270\n"
     ]
    }
   ],
   "source": [
    "# three hidden layers\n",
    "L3 = opt_layer([[20,10,10], [40,20,20], [80,60,40]])"
   ]
  },
  {
   "cell_type": "code",
   "execution_count": 19,
   "metadata": {},
   "outputs": [],
   "source": [
    "# choose a proper layer\n",
    "L = [150]"
   ]
  },
  {
   "cell_type": "markdown",
   "metadata": {},
   "source": [
    "# Prediction and validation"
   ]
  },
  {
   "cell_type": "markdown",
   "metadata": {},
   "source": [
    "## The Predict Model"
   ]
  },
  {
   "cell_type": "code",
   "execution_count": 20,
   "metadata": {},
   "outputs": [],
   "source": [
    "def predict_layer(best_layer,X_tic_last,X_tic_sectors,Y_tic_last):\n",
    "    reset_graph()\n",
    "    batch_size = 256\n",
    "    learning_rate = 0.01\n",
    "    n_iters = 50000\n",
    "    keep_prob = 0.6 # 1 - dropout rate\n",
    "    model = Model(n_input=X.shape[1], n_output=1, hidden_layer_shapes=best_layer)\n",
    "    pd_y_tic_last =[]\n",
    "    with tf.Session() as sess:\n",
    "        sess.run(tf.global_variables_initializer())\n",
    "        for i in range(0, n_iters):\n",
    "            batch_ids = np.random.randint(low=0, high=Y_train.shape[0], size=batch_size).tolist()\n",
    "            batch_x = X_train[batch_ids, :]\n",
    "            batch_x_sectors = X_train_sectors[batch_ids]\n",
    "            batch_y = Y_train[batch_ids]\n",
    "            _, loss = sess.run(model.train_op, feed_dict={\n",
    "                model.x: batch_x,\n",
    "                model.x_sectors: batch_x_sectors,\n",
    "                model.y: np.expand_dims(batch_y, -1),\n",
    "                model.learning_rate: learning_rate,\n",
    "                model.keep_prob: keep_prob\n",
    "            })\n",
    "        pd_y_tic_last = sess.run(model.output, feed_dict={\n",
    "            model.x: X_tic_last,\n",
    "            model.x_sectors: X_tic_sectors,\n",
    "            model.y: np.expand_dims(Y_tic_last, -1),\n",
    "            model.keep_prob: 1.0\n",
    "        })         \n",
    "    return(pd_y_tic_last)"
   ]
  },
  {
   "cell_type": "markdown",
   "metadata": {},
   "source": [
    "## Accuracy and statistics"
   ]
  },
  {
   "cell_type": "code",
   "execution_count": 21,
   "metadata": {
    "scrolled": true
   },
   "outputs": [
    {
     "name": "stdout",
     "output_type": "stream",
     "text": [
      "Prediction accuracy: 0.919\n"
     ]
    }
   ],
   "source": [
    "prd_ret = predict_layer(L,X_tic_last_set,X_tic_last_set_sector,Y_tic_last_set)\n",
    "tic_last_set['Predict'] = prd_ret\n",
    "tic_last_set['Accuracy'] = tic_last_set.F_ret * tic_last_set.Predict\n",
    "accuracy = tic_last_set[tic_last_set.Accuracy>0].shape[0] / tic_last_set.shape[0]\n",
    "print(\"Prediction accuracy: %.3f\" % accuracy)"
   ]
  },
  {
   "cell_type": "code",
   "execution_count": 22,
   "metadata": {},
   "outputs": [
    {
     "name": "stdout",
     "output_type": "stream",
     "text": [
      "Mean square error is 0.010\n"
     ]
    }
   ],
   "source": [
    "f_ret = tic_last_set['F_ret']\n",
    "f_ret = f_ret.values\n",
    "diff = f_ret.reshape(1,-1) - prd_ret.reshape(1,-1)\n",
    "sse = np.sum(np.square(diff))\n",
    "print('Mean square error is %.3f' % (np.sqrt(sse) / f_ret.shape[0]))"
   ]
  },
  {
   "cell_type": "code",
   "execution_count": 23,
   "metadata": {},
   "outputs": [
    {
     "name": "stdout",
     "output_type": "stream",
     "text": [
      "Stocks with predicted positive return: 3775\n"
     ]
    }
   ],
   "source": [
    "sort_by_predict = tic_last_set.sort_values(by=['Predict'])\n",
    "positive_return = sort_by_predict[sort_by_predict['Predict']>0]\n",
    "print('Stocks with predicted positive return: %.i' % positive_return.shape[0])"
   ]
  },
  {
   "cell_type": "code",
   "execution_count": 24,
   "metadata": {},
   "outputs": [
    {
     "name": "stdout",
     "output_type": "stream",
     "text": [
      "Stocks with predicted negative return: 2941\n"
     ]
    }
   ],
   "source": [
    "negative_return = sort_by_predict[sort_by_predict['Predict']<0]\n",
    "print('Stocks with predicted negative return: %.i' % negative_return.shape[0])"
   ]
  },
  {
   "cell_type": "code",
   "execution_count": 25,
   "metadata": {},
   "outputs": [
    {
     "name": "stdout",
     "output_type": "stream",
     "text": [
      "long position return 0.5161\n",
      "short position return -0.2452\n"
     ]
    }
   ],
   "source": [
    "tk_rate = 0.06\n",
    "positive_count = positive_return.shape[0]\n",
    "positive_top = positive_return.iloc[int(positive_count*(1-tk_rate)):,:]\n",
    "negative_count = negative_return.shape[0]\n",
    "negative_top = negative_return.iloc[:int(negative_count*tk_rate),:]\n",
    "print('long position return %.4f' % np.mean(positive_top['F_ret']))\n",
    "print('short position return %.4f' % np.mean(negative_top['F_ret']))"
   ]
  },
  {
   "cell_type": "markdown",
   "metadata": {},
   "source": [
    "## Results"
   ]
  },
  {
   "cell_type": "code",
   "execution_count": 26,
   "metadata": {
    "scrolled": true
   },
   "outputs": [
    {
     "name": "stderr",
     "output_type": "stream",
     "text": [
      "/Users/yang/miniconda2/envs/py35/lib/python3.5/site-packages/ipykernel_launcher.py:2: SettingWithCopyWarning: \n",
      "A value is trying to be set on a copy of a slice from a DataFrame.\n",
      "Try using .loc[row_indexer,col_indexer] = value instead\n",
      "\n",
      "See the caveats in the documentation: http://pandas.pydata.org/pandas-docs/stable/indexing.html#indexing-view-versus-copy\n",
      "  \n"
     ]
    },
    {
     "name": "stdout",
     "output_type": "stream",
     "text": [
      "AVG RET of LONG STOCKS [0.5097739037054044, 0.31998104704998, 0.33757369120081365, 0.971122388899963]\n",
      "AVG RET of SHORT STOCKS [-0.19412978087877578, -0.2681098088075442, -0.27529807322229577, -0.2580034976515923]\n",
      "SHARPE RATIO of MKt [0.012923579319089926, 0.12519301534776425, 0.05657983411659532, 0.005254031825873]\n",
      "SHARPE RATIO of REAL PORTFOLIO [0.5785425023169576, 1.0699331215316736, 1.1992737022766453, 0.22698613052324754]\n",
      "SHARPE RATIO of PREDICTED PORTFOLIO [0.37040953523496584, 0.3815472315735936, 1.027569106812059, 0.45078514699719496]\n"
     ]
    },
    {
     "data": {
      "image/png": "[encoded data removed]",
      "text/plain": [
       "<Figure size 432x288 with 1 Axes>"
      ]
     },
     "metadata": {},
     "output_type": "display_data"
    },
    {
     "data": {
      "image/png": "[encoded data removed]",
      "text/plain": [
       "<Figure size 432x288 with 1 Axes>"
      ]
     },
     "metadata": {},
     "output_type": "display_data"
    },
    {
     "data": {
      "image/png": "[encoded data removed]",
      "text/plain": [
       "<Figure size 432x288 with 1 Axes>"
      ]
     },
     "metadata": {},
     "output_type": "display_data"
    },
    {
     "data": {
      "image/png": "[encoded data removed]",
      "text/plain": [
       "<Figure size 432x288 with 1 Axes>"
      ]
     },
     "metadata": {},
     "output_type": "display_data"
    }
   ],
   "source": [
    "port_return = tic_last_set[['Date','tic','F_ret','Predict']]\n",
    "port_return['tmp'] = port_return.index.values\n",
    "long_ret = []\n",
    "short_ret = []\n",
    "r_f_rate = [0.02404,0.02187,0.02275,0.02462]\n",
    "mkt_sr = []\n",
    "port_sr = []\n",
    "prd_sr =[]\n",
    "mkt_avg_r = [] #[0.01189,0.04155,0.04724,0.10185]\n",
    "prd_avg_r = []\n",
    "accuracy = []\n",
    "date = ['201703','201706','201709','201712']\n",
    "for i in range(4):\n",
    "    port_r =[]\n",
    "    returndf = port_return.groupby('tic').first().sort_values(by=['Predict'])\n",
    "    positive_return = returndf[returndf['Predict']>0]\n",
    "    negative_return = returndf[returndf['Predict']<0]\n",
    "    positive_count = positive_return.shape[0]\n",
    "    positive_top = positive_return.iloc[int(positive_count*(1-tk_rate)):,:]\n",
    "    long_ret.append(np.mean(positive_top['F_ret']))\n",
    "    negative_count = negative_return.shape[0]\n",
    "    negative_top = negative_return.iloc[:int(negative_count*tk_rate),:]\n",
    "    short_ret.append(np.mean(negative_top['F_ret']))\n",
    "    port_return = port_return[~port_return.tmp.isin(returndf.tmp)]\n",
    "    mkt_sr.append((np.mean(returndf['F_ret'])-r_f_rate[i])/np.std(returndf['F_ret']))\n",
    "    port_r = np.concatenate([positive_top['F_ret'].values,-negative_top['F_ret'].values])\n",
    "    port_sr.append((np.mean(port_r)-r_f_rate[i])/np.std(port_r))\n",
    "    prd_r = np.concatenate([positive_top['Predict'].values,-negative_top['Predict'].values])\n",
    "    prd_sr.append((np.mean(prd_r)-r_f_rate[i])/np.std(prd_r))\n",
    "    mkt_avg_r.append(np.mean(returndf['F_ret']))\n",
    "    prd_avg_r.append(np.mean(port_r))\n",
    "    accuracy.append((positive_return[positive_return['F_ret']>0].shape[0]+\\\n",
    "     negative_return[negative_return['F_ret']<0].shape[0])\\\n",
    "    /(positive_return.shape[0]+negative_return.shape[0]))\n",
    "print('AVG RET of LONG STOCKS',long_ret)\n",
    "print('AVG RET of SHORT STOCKS',short_ret)\n",
    "print('SHARPE RATIO of MKt',mkt_sr)\n",
    "print('SHARPE RATIO of REAL PORTFOLIO',port_sr)\n",
    "print('SHARPE RATIO of PREDICTED PORTFOLIO',prd_sr)\n",
    "plt.figure(1)\n",
    "plt.plot(date,mkt_sr)\n",
    "plt.plot(date,port_sr)\n",
    "#plt.plot(date,prd_sr)\n",
    "plt.grid(True)\n",
    "plt.xlabel('Hedging time')\n",
    "plt.ylabel('Sharpe ratio')\n",
    "plt.legend(['MKT Sharpe ratio','PORTFOLIO Sharpe ratio'],bbox_to_anchor=(-0.6, 0.2), loc=2, borderaxespad=0.)\n",
    "plt.show()\n",
    "#plt.savefig('SR.eps', format='eps', dpi=1000)\n",
    "plt.figure(2)\n",
    "#plt.plot(date,mkt_avg_r)\n",
    "plt.plot(date,np.array(long_ret)-np.array(short_ret))\n",
    "plt.plot(date,prd_avg_r)\n",
    "plt.grid(True)\n",
    "plt.ylim(ymin=0.0, ymax=1.0)\n",
    "plt.xlabel('Hedging time')\n",
    "plt.ylabel('Average Return Rate')\n",
    "plt.legend(['REAL PORTFOLIO RET','PREDICTED PORTFOLIO RET'],bbox_to_anchor=(-0.6, 0.2), loc=2, borderaxespad=0.)\n",
    "plt.show()\n",
    "#plt.savefig('Avg_Ret.eps', format='eps', dpi=1000)\n",
    "plt.figure(3)\n",
    "plt.bar(date,accuracy, align='center', alpha=0.5)\n",
    "plt.ylim(ymin=0.7)\n",
    "plt.grid(True)\n",
    "plt.xlabel('Hedging time')\n",
    "plt.ylabel('Accuracy')\n",
    "plt.show()\n",
    "#plt.savefig('Accuracy.jpg', format='jpg', dpi=1000)\n",
    "plt.figure(4)\n",
    "plt.plot(date,np.cumsum(mkt_avg_r))\n",
    "#plt.plot(date,np.cumsum(np.array(long_ret)-np.array(short_ret)))\n",
    "plt.plot(date,np.cumsum(prd_avg_r))\n",
    "plt.grid(True)\n",
    "plt.xlabel('Hedging time')\n",
    "plt.ylabel('Cumulative Return')\n",
    "plt.legend(['MKT RET','PREDICTED PORTFOLIO RET'],bbox_to_anchor=(-0.6, 0.2), loc=2, borderaxespad=0.)\n",
    "plt.show()"
   ]
  },
  {
   "cell_type": "code",
   "execution_count": 27,
   "metadata": {},
   "outputs": [
    {
     "data": {
      "text/plain": [
       "array([0.70390368, 0.58809086, 0.61287176, 1.22912589])"
      ]
     },
     "execution_count": 27,
     "metadata": {},
     "output_type": "execute_result"
    }
   ],
   "source": [
    "returndf\n",
    "positive_top\n",
    "returndf['F_ret']\n",
    "np.array(long_ret)-np.array(short_ret)"
   ]
  },
  {
   "cell_type": "code",
   "execution_count": 28,
   "metadata": {},
   "outputs": [
    {
     "data": {
      "text/plain": [
       "1.2291258865515553"
      ]
     },
     "execution_count": 28,
     "metadata": {},
     "output_type": "execute_result"
    }
   ],
   "source": [
    "(np.array(long_ret)-np.array(short_ret))[-1]"
   ]
  },
  {
   "cell_type": "code",
   "execution_count": 29,
   "metadata": {},
   "outputs": [
    {
     "data": {
      "text/plain": [
       "52.019999999999996"
      ]
     },
     "execution_count": 29,
     "metadata": {},
     "output_type": "execute_result"
    }
   ],
   "source": [
    "negative_count*tk_rate"
   ]
  },
  {
   "cell_type": "code",
   "execution_count": null,
   "metadata": {},
   "outputs": [],
   "source": []
  }
 ],
 "metadata": {
  "kernelspec": {
   "display_name": "py35",
   "language": "python",
   "name": "py35"
  },
  "language_info": {
   "codemirror_mode": {
    "name": "ipython",
    "version": 3
   },
   "file_extension": ".py",
   "mimetype": "text/x-python",
   "name": "python",
   "nbconvert_exporter": "python",
   "pygments_lexer": "ipython3",
   "version": "3.5.5"
  }
 },
 "nbformat": 4,
 "nbformat_minor": 2
}
